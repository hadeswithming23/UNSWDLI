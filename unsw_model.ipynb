{
 "cells": [
  {
   "cell_type": "markdown",
   "metadata": {},
   "source": [
    "# 🛡️ UNSW-NB15 Intrusion Detection Model Retraining\n",
    "\n",
    "This notebook retrains a model for intrusion detection using the UNSW-NB15 dataset. The workflow includes:\n",
    "1. Importing libraries\n",
    "2. Loading the dataset\n",
    "3. Data cleaning\n",
    "4. Encoding categorical features\n",
    "5. Feature selection using `SelectKBest`\n",
    "6. Scaling numeric features\n",
    "7. Model training\n",
    "8. Evaluation\n",
    "9. Saving model and preprocessing objects"
   ]
  },
  {
   "cell_type": "code",
   "execution_count": null,
   "id": "360f2c55",
   "metadata": {},
   "outputs": [],
   "source": [
    "import pandas as pd\n",
    "import joblib\n",
    "from sklearn.model_selection import train_test_split\n",
    "from sklearn.ensemble import RandomForestClassifier\n",
    "from sklearn.metrics import accuracy_score, precision_score, recall_score, f1_score\n",
    "\n",
    "# Load Dataset\n",
    "df = pd.read_csv(\"UNSW_NB15_training-set.csv\")\n",
    "df.head()\n",
    "\n",
    "# Drop unnecessary columns\n",
    "drop_cols = ['id', 'attack_cat']\n",
    "df = df.drop(columns=[col for col in drop_cols if col in df.columns], errors='ignore')\n",
    "\n",
    "# Define label column\n",
    "LABEL_COL = \"label\"\n",
    "y = df[LABEL_COL].apply(lambda x: 0 if x == 0 else 1)\n",
    "X = df.drop(columns=[LABEL_COL])\n",
    "\n",
    "# --- Step 2: Encode categorical values ---\n",
    "cat_cols = ['proto', 'service', 'state']\n",
    "for col in cat_cols:\n",
    "    if col in X.columns:\n",
    "        X[col] = X[col].astype('category').cat.codes  # simple encoding\n",
    "\n",
    "# --- Step 3: Handle missing values ---\n",
    "X = X.fillna(0)\n",
    "\n",
    "# --- Step 4: Train/test split ---\n",
    "X_train, X_test, y_train, y_test = train_test_split(\n",
    "    X, y, test_size=0.2, random_state=42, stratify=y\n",
    ")\n",
    "\n",
    "# --- Step 5: Train model ---\n",
    "clf = RandomForestClassifier(\n",
    "    n_estimators=200,\n",
    "    max_depth=None,\n",
    "    random_state=42,\n",
    "    n_jobs=-1\n",
    ")\n",
    "clf.fit(X_train, y_train)\n",
    "\n",
    "# --- Step 6: Evaluate ---\n",
    "y_pred = clf.predict(X_test)\n",
    "metrics = {\n",
    "    \"accuracy\": accuracy_score(y_test, y_pred),\n",
    "    \"precision\": precision_score(y_test, y_pred),\n",
    "    \"recall\": recall_score(y_test, y_pred),\n",
    "    \"f1\": f1_score(y_test, y_pred),\n",
    "}\n",
    "print(metrics)\n",
    "\n",
    "# --- Step 7: Save model ---\n",
    "joblib.dump(clf, \"unsw_rf_full.pkl\")\n"
   ]
  }
 ],
 "metadata": {
  "kernelspec": {
   "display_name": "Python 3",
   "language": "python",
   "name": "python3"
  },
  "language_info": {
   "codemirror_mode": {
    "name": "ipython",
    "version": 3
   },
   "file_extension": ".py",
   "mimetype": "text/x-python",
   "name": "python",
   "nbconvert_exporter": "python",
   "pygments_lexer": "ipython3",
   "version": "3.12.4"
  }
 },
 "nbformat": 4,
 "nbformat_minor": 5
}
